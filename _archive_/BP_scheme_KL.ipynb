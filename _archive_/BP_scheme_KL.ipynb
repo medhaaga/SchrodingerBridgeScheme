{
 "cells": [
  {
   "cell_type": "markdown",
   "metadata": {},
   "source": [
    "# Schrödinger Bridge Scheme for Gradient Flow of KL Divergence\n",
    "\n",
    "In this notebook, we use our Schrödinger bridge scheme for approximating the explicit Euler discretization of the gradient flow of KL divergence. We work with the simple setting of Gaussian starting measure. "
   ]
  },
  {
   "cell_type": "code",
   "execution_count": 10,
   "metadata": {},
   "outputs": [],
   "source": [
    "import numpy as np\n",
    "from scipy.special import expit\n",
    "from scipy.stats import norm\n",
    "from tqdm import tqdm\n",
    "import matplotlib.pyplot as plt\n",
    "from estimate_SB import _gibbs_one_iter, schbridge, sinkhorn, cost_matrix\n",
    "from BP_scheme_KL import custom_resample, kl_SB_scheme_gibbs\n",
    "from matplotlib.animation import FuncAnimation"
   ]
  },
  {
   "cell_type": "code",
   "execution_count": 2,
   "metadata": {},
   "outputs": [],
   "source": [
    "def cost_matrix(X, Y):\n",
    "    \"\"\"L2 cost matrix\n",
    "    \"\"\"\n",
    "    n = X.shape[0]\n",
    "    return (X.reshape((n,1)) - X.reshape((1,n)))**2"
   ]
  },
  {
   "cell_type": "markdown",
   "metadata": {},
   "source": [
    "Suppose I have $(x_1, \\dots, x_n)$ observed from $\\rho_0$ to start with. I want to conduct an SB scheme on these samples for minimizing \n",
    "$$\\mathcal{F}(\\rho) := \\frac{1}{2} KL(\\rho | e^{-g}).$$\n",
    "\n",
    "Here we take $\\rho = \\mathcal{N}(0, \\eta^2)$ and $g = x^2/2$. Assuming $\\eta^2 < 1$, the valid surrogate density is $\\sigma = \\rho e^g = \\mathcal{N}(0, \\eta^2/(1-\\eta^2))$.\n",
    "\n"
   ]
  },
  {
   "cell_type": "code",
   "execution_count": 3,
   "metadata": {},
   "outputs": [],
   "source": [
    "# Create Particles for forward process\n",
    "n = 500\n",
    "eps = 0.001\n",
    "mu, sigma_squared, sigma = 0, 4, 2\n",
    "X = np.random.normal(mu, sigma, n)\n",
    "cost_mat = cost_matrix(X, X)"
   ]
  },
  {
   "cell_type": "markdown",
   "metadata": {},
   "source": [
    "Let us look at the Schrodinger bridge when we use the histogram of data."
   ]
  },
  {
   "cell_type": "code",
   "execution_count": 4,
   "metadata": {},
   "outputs": [
    {
     "data": {
      "image/png": "[encoded data removed]",
      "text/plain": [
       "<Figure size 500x400 with 1 Axes>"
      ]
     },
     "metadata": {},
     "output_type": "display_data"
    }
   ],
   "source": [
    "plt.figure(figsize = (5,4))\n",
    "plt.hist(X, bins=25, color='indigo')\n",
    "plt.title(r\"Histogram of $\\rho_0$\")\n",
    "plt.show()"
   ]
  },
  {
   "cell_type": "markdown",
   "metadata": {},
   "source": [
    "Recall that the SB scheme with the starting measure $\\rho = \\mathcal{N}(0, \\eta^2)$ is\n",
    "$$\\rho_\\epsilon^* = (Id + \\nabla f_{\\epsilon, \\sigma})_\\# \\rho,$$\n",
    "where $\\sigma = \\mathcal{N}(0, \\eta^2/(1-\\eta^2))$. Samples from $\\sigma$ are not immediately available. But note that if $x_1, \\dots, x_n$ are iid samples from $\\mathcal{N}(0, \\eta^2)$, then $y_i = x_i/\\sqrt{1-\\eta^2}$ are iid samples from $\\mathcal{N}(0, \\eta^2/(1-\\eta^2))$. Therefore we estimate $\\sigma$ by \n",
    "\n",
    "$$\\sigma_n = \\frac{1}{n} \\sum_{i=1}^{n} \\delta_{x_i/\\sqrt{1-\\hat{\\eta}^2}}.$$\n",
    "\n",
    "Now the SB scheme is \n",
    "\n",
    "$$x_i \\mapsto x_i + \\nabla f_{\\epsilon, \\sigma_n}(x_i)$$\n",
    "We know that $E_{\\pi_{\\epsilon, \\sigma_n}}[Y | X = x_i] = x_i - \\nabla f_{\\epsilon, \\sigma_n}(x_i)$. Therefore, we want to calculate the barycentric projection using an approximation of $\\pi_{\\epsilon, \\sigma_n}$. \n",
    "\n",
    "Let this be $\\hat{\\pi}_{\\epsilon, \\sigma_n}$ calculated using method above using Sinkhorn or Gibbs sampling. Then we have that $\\hat{\\pi}_{\\epsilon, \\sigma_n} \\in [0,1]^{n \\times n}$ is matrix. And note that\n",
    "\\begin{align*}\n",
    "\\nabla \\hat{f}_{\\epsilon, \\sigma_n}(x_i) &= x_i - E_{\\hat{\\pi}_{\\epsilon, \\sigma_n}}[Y|X=x_i]\n",
    "\\end{align*}\n",
    "However we can only estimate the conditional expectation when conditioning $X$ on one of the elements in the set $\\{y_1, \\dots, y_n\\}$\n"
   ]
  },
  {
   "cell_type": "code",
   "execution_count": 8,
   "metadata": {},
   "outputs": [],
   "source": [
    "def draw_gaussian(mean, std_dev):\n",
    "    # Generate data points for the x-axis\n",
    "    x = np.linspace(mean - 3*std_dev, mean + 3*std_dev, 1000)\n",
    "\n",
    "    # Compute the probability density function (PDF) for each data point\n",
    "    pdf_values = norm.pdf(x, mean, std_dev)\n",
    "\n",
    "    return x, pdf_values\n",
    "\n",
    "def forward_SB_var(sigma_squared, eps, k=1):\n",
    "\n",
    "    surrogate_var = sigma_squared/(sigma_squared - 1)\n",
    "\n",
    "    new_sigma_squared = ((surrogate_var/(np.sqrt((surrogate_var**2) + (eps**2)/4) + eps/2))**2)*sigma_squared\n",
    "\n",
    "    if k==1:\n",
    "        return new_sigma_squared\n",
    "    else:\n",
    "        return forward_SB_var(new_sigma_squared, eps, k=k-1)\n",
    "\n",
    "def reverse_SB_var(sigma_squared, eps, k=1):\n",
    "\n",
    "    surrogate_var = sigma_squared/(sigma_squared - 1)\n",
    "\n",
    "    new_sigma_squared = ((2-(sigma_squared/(np.sqrt((sigma_squared**2) + (eps**2)/4) + eps/2)))**2)*sigma_squared\n",
    "\n",
    "    if k==1:\n",
    "        return new_sigma_squared\n",
    "    else:\n",
    "        return reverse_SB_var(new_sigma_squared, eps, k=k-1)"
   ]
  },
  {
   "cell_type": "code",
   "execution_count": 9,
   "metadata": {},
   "outputs": [],
   "source": [
    "def update_plot(frame, SB_steps, steps, eps, sigma_squared, forward, xlim, ylim):\n",
    "    plt.clf()  # Clear the previous plot (if any)\n",
    "    \n",
    "    # Your plotting logic for each frame\n",
    "    step = steps[frame]\n",
    "    plt.hist(SB_steps[frame], density=True, alpha=0.6, bins=30, color='lightblue', edgecolor='white')\n",
    "    plt.title(f'Steps: {step}, Time: {eps*step}')\n",
    "    plt.xlim(-xlim, xlim)\n",
    "    plt.ylim(0, ylim)\n",
    "\n",
    "    if forward:\n",
    "        true_var = 1 + (sigma_squared - 1)*np.exp(-step*eps)\n",
    "        SB_var = forward_SB_var(sigma_squared, eps, k=step)\n",
    "    else:\n",
    "        true_var = 1 + (sigma_squared - 1)*np.exp(step*eps)\n",
    "        SB_var = reverse_SB_var(sigma_squared, eps, k=step)\n",
    "\n",
    "    x, pdf_values = draw_gaussian(mean=0, std_dev=np.sqrt(true_var))\n",
    "    plt.plot(x, pdf_values, label=r'$\\rho_t$', color='blue', linewidth=4)\n",
    "    x, pdf_values = draw_gaussian(mean=0, std_dev=np.sqrt(SB_var))\n",
    "    plt.plot(x, pdf_values, label=r'$\\rho^*_t$', color='green')\n",
    "    plt.legend()"
   ]
  },
  {
   "cell_type": "code",
   "execution_count": 15,
   "metadata": {},
   "outputs": [
    {
     "name": "stdout",
     "output_type": "stream",
     "text": [
      "(2, 500)\n"
     ]
    },
    {
     "data": {
      "image/png": "[encoded data removed]",
      "text/plain": [
       "<Figure size 640x480 with 1 Axes>"
      ]
     },
     "metadata": {},
     "output_type": "display_data"
    }
   ],
   "source": [
    "# Create forward animations\n",
    "\n",
    "mu, sigma_squared, sigma = 0, 4, 2\n",
    "for e in [0.1]: \n",
    "\n",
    "    max_steps = int(2/e)\n",
    "    steps = 10*np.arange(1, (max_steps//10)+1)\n",
    "\n",
    "    # Set the number of frames\n",
    "    num_frames = len(steps)\n",
    "\n",
    "    ## Gibbs\n",
    "    file_path = f'X_SB_Gibbs_forward_eps{e}.npy'\n",
    "    X_SB_Gibbs = np.load(file_path)\n",
    "    print(X_SB_Gibbs.shape)\n",
    "\n",
    "    # Create a figure\n",
    "    fig, ax = plt.subplots()\n",
    "\n",
    "    # Create the animation\n",
    "    animation = FuncAnimation(fig, update_plot, frames=num_frames, fargs=(X_SB_Gibbs, steps, e, sigma_squared, True, 3*np.sqrt(6), .5), interval=10)\n",
    "    animation.save(f'Gibbs_forward_KL_Eps{e}.gif', writer='imagemagick', fps=2)\n",
    "    # Show the animation\n",
    "    plt.show()\n"
   ]
  },
  {
   "cell_type": "code",
   "execution_count": null,
   "metadata": {},
   "outputs": [],
   "source": []
  }
 ],
 "metadata": {
  "kernelspec": {
   "display_name": "Python 3.10.13 ('wildlife')",
   "language": "python",
   "name": "python3"
  },
  "language_info": {
   "codemirror_mode": {
    "name": "ipython",
    "version": 3
   },
   "file_extension": ".py",
   "mimetype": "text/x-python",
   "name": "python",
   "nbconvert_exporter": "python",
   "pygments_lexer": "ipython3",
   "version": "3.10.13"
  },
  "orig_nbformat": 4,
  "vscode": {
   "interpreter": {
    "hash": "2b10d533ec9c3c114c7e3be0b60027fd8c2557fa894369e5e67088e5e66ae752"
   }
  }
 },
 "nbformat": 4,
 "nbformat_minor": 2
}
